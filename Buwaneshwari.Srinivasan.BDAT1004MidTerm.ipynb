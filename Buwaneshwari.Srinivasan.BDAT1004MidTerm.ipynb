{
 "cells": [
  {
   "cell_type": "markdown",
   "id": "62dcbfaa",
   "metadata": {},
   "source": [
    "# Mid Term\n"
   ]
  },
  {
   "cell_type": "markdown",
   "id": "d279125f",
   "metadata": {},
   "source": [
    "Question : 21"
   ]
  },
  {
   "cell_type": "code",
   "execution_count": 23,
   "id": "636d1fc9",
   "metadata": {},
   "outputs": [
    {
     "name": "stdout",
     "output_type": "stream",
     "text": [
      "The Length of the Line is : 5.0\n",
      "The Slope of the Line is : 0.75\n"
     ]
    }
   ],
   "source": [
    "import math\n",
    "\n",
    "class Point:\n",
    "    def __init__(user, a=0, b=0):\n",
    "        user.a = a\n",
    "        user.b = b\n",
    "\n",
    "\n",
    "class Segment:\n",
    "    def __init__(user, p1, p2):\n",
    "        user.p1 = p1\n",
    "        user.p2 = p2\n",
    "    \n",
    "    def length(user):\n",
    "        return math.sqrt((user.p2.a - user.p1.a)**2 + (user.p2.b - user.p1.b)**2)\n",
    "    \n",
    "    def slope(user):\n",
    "        try:\n",
    "            return (user.p2.a - user.p1.a) / (user.p2.b - user.p1.b)\n",
    "        except ZeroDivisionError:\n",
    "            return None\n",
    "\n",
    "\n",
    "pl = Point(3, 4)\n",
    "p2 = Point()\n",
    "s = Segment(pl, p2)\n",
    "\n",
    "print(\"The Length of the Line is :\",s.length()) \n",
    "print(\"The Slope of the Line is :\",s.slope())   \n",
    "\n",
    "\n"
   ]
  },
  {
   "cell_type": "markdown",
   "id": "0b11b40f",
   "metadata": {},
   "source": [
    "Question : 22"
   ]
  },
  {
   "cell_type": "code",
   "execution_count": 2,
   "id": "c3ce40b2",
   "metadata": {},
   "outputs": [
    {
     "name": "stdout",
     "output_type": "stream",
     "text": [
      "id\n",
      "{2}\n",
      "{4}\n"
     ]
    }
   ],
   "source": [
    "import sqlite3\n",
    "\n",
    "conn = sqlite3.connect('WeatherTable.db')\n",
    "cursor = conn.cursor()\n",
    "\n",
    "cursor.execute('''CREATE TABLE IF NOT EXISTS WeatherTable (id INTEGER PRIMARY KEY,recordDate DATE,temperature INTEGER)''')\n",
    "weather_record = [(1, '2015-01-01', 10),(2, '2015-01-02', 25),(3, '2015-01-03', 20),(4, '2015-01-04', 30)]\n",
    "cursor.executemany('INSERT INTO WeatherTable (id, recordDate, temperature) VALUES (?, ?, ?)', weather_record)\n",
    "conn.commit()\n",
    "sqlquery = '''SELECT wd1.id, wd1.recordDate, wd1.temperature\n",
    "              FROM WeatherTable wd1\n",
    "              JOIN WeatherTable wd2 ON wd1.recordDate = DATE(wd2.recordDate, '+1 day')\n",
    "              WHERE wd1.temperature > wd2.temperature'''\n",
    "\n",
    "cursor.execute(sqlquery)\n",
    "table = cursor.fetchall()\n",
    "print(\"id\")\n",
    "for row in table:\n",
    "    print({row[0]})\n",
    "conn.close()\n"
   ]
  },
  {
   "cell_type": "markdown",
   "id": "17524900",
   "metadata": {},
   "source": [
    "Question : 23"
   ]
  },
  {
   "cell_type": "code",
   "execution_count": 2,
   "id": "0c9451a1",
   "metadata": {},
   "outputs": [
    {
     "name": "stdout",
     "output_type": "stream",
     "text": [
      "tough(0,0)\n",
      "tough(0, 1)\n",
      "*\n",
      "tough(0, 2)\n",
      "*\n",
      "**\n",
      " *\n",
      "tough(0, 4)\n",
      "*\n",
      "**\n",
      " *\n",
      "****\n",
      "  *\n",
      "  **\n",
      "   *\n"
     ]
    }
   ],
   "source": [
    "def tough(ind, s):\n",
    "    if s > 0:\n",
    "        tough(ind, s // 2)\n",
    "        print(\" \" * ind + \"*\" * s)\n",
    "        tough(ind + s // 2, s // 2)\n",
    "        \n",
    "print(\"tough(0,0)\" )\n",
    "tough(0,0)\n",
    "\n",
    "print(\"tough(0, 1)\" )\n",
    "tough(0, 1)\n",
    "\n",
    "print(\"tough(0, 2)\" )\n",
    "tough(0, 2)\n",
    "\n",
    "print(\"tough(0, 4)\")\n",
    "tough(0, 4)"
   ]
  }
 ],
 "metadata": {
  "kernelspec": {
   "display_name": "Python 3 (ipykernel)",
   "language": "python",
   "name": "python3"
  },
  "language_info": {
   "codemirror_mode": {
    "name": "ipython",
    "version": 3
   },
   "file_extension": ".py",
   "mimetype": "text/x-python",
   "name": "python",
   "nbconvert_exporter": "python",
   "pygments_lexer": "ipython3",
   "version": "3.10.9"
  }
 },
 "nbformat": 4,
 "nbformat_minor": 5
}
